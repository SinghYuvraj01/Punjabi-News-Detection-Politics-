{
 "cells": [
  {
   "cell_type": "markdown",
   "id": "9a7a89d6",
   "metadata": {},
   "source": [
    "## Step 1 : Loading the dataset\n",
    "The very first thing which we need to do for making machine learning model is to load the dataset , so that we could do exploratory data analysis on the data stored in dataset.\n",
    "\n",
    "For loading the dataset and converting the data into dataframe we will use pandas library"
   ]
  },
  {
   "cell_type": "code",
   "execution_count": 1,
   "id": "e4eecb4f",
   "metadata": {},
   "outputs": [
    {
     "data": {
      "text/html": [
       "<div>\n",
       "<style scoped>\n",
       "    .dataframe tbody tr th:only-of-type {\n",
       "        vertical-align: middle;\n",
       "    }\n",
       "\n",
       "    .dataframe tbody tr th {\n",
       "        vertical-align: top;\n",
       "    }\n",
       "\n",
       "    .dataframe thead th {\n",
       "        text-align: right;\n",
       "    }\n",
       "</style>\n",
       "<table border=\"1\" class=\"dataframe\">\n",
       "  <thead>\n",
       "    <tr style=\"text-align: right;\">\n",
       "      <th></th>\n",
       "      <th>article</th>\n",
       "      <th>is_about_politics</th>\n",
       "    </tr>\n",
       "  </thead>\n",
       "  <tbody>\n",
       "    <tr>\n",
       "      <th>0</th>\n",
       "      <td>ਮਾਇਆਵਤੀ ਅਤੇ ਮੁਲਾਇਮ ਸਿੰਘ ਯਾਦਵ ਨੂੰ ਦੁਸ਼ਮਣ ਬਣਾਉਣ...</td>\n",
       "      <td>True</td>\n",
       "    </tr>\n",
       "    <tr>\n",
       "      <th>1</th>\n",
       "      <td>ਇਸ ਤੇਲਗੂ ਫਿਲਮ ਅਦਾਕਾਰਾ ਨੇ ਕਿਉਂ ਲਾਹੇ ਸੜਕ 'ਤੇ ਕੱ...</td>\n",
       "      <td>False</td>\n",
       "    </tr>\n",
       "    <tr>\n",
       "      <th>2</th>\n",
       "      <td>ਵੈਸਟਮਿਨਸਟਰ ਕਾਰ ਹਾਦਸਾ: ਸ਼ੱਕੀ ਅੱਤਵਾਦੀ ਵਾਰਦਾਤ ਦੇ...</td>\n",
       "      <td>False</td>\n",
       "    </tr>\n",
       "    <tr>\n",
       "      <th>3</th>\n",
       "      <td>ਪਾਕਿਸਤਾਨ ਵਿੱਚ ਇਸਰਾਈਲ ਦੇ ਜਹਾਜ਼ ਨੇ ਇੰਝ ਮੱਚਾਈ ‘ਤ...</td>\n",
       "      <td>False</td>\n",
       "    </tr>\n",
       "    <tr>\n",
       "      <th>4</th>\n",
       "      <td>ਮਨਦੀਪ ਸਿੰਘ ਇਸ ਵੇਲੇ ਇਟਲੀ ਰਹਿ ਰਹੇ ਹਨ। ਬੀਬੀਸੀ ਪੰ...</td>\n",
       "      <td>False</td>\n",
       "    </tr>\n",
       "    <tr>\n",
       "      <th>...</th>\n",
       "      <td>...</td>\n",
       "      <td>...</td>\n",
       "    </tr>\n",
       "    <tr>\n",
       "      <th>622</th>\n",
       "      <td>ਓਮ ਪੁਰੀ ਜਦੋਂ ਪੰਜਾਬੀ ਬੋਲਣ ਦੇ ਅੰਦਾਜ਼ ਤੋਂ ਬੰਦੇ ਦ...</td>\n",
       "      <td>False</td>\n",
       "    </tr>\n",
       "    <tr>\n",
       "      <th>623</th>\n",
       "      <td>ਮੈਕਸੀਕੋ ਦੀ ਇਸ ਲੜਕੀ ਨੂੰ ਲੱਖਾਂ ਲੋਕ ਪਸੰਦ ਕਰਦੇ ਹਨ...</td>\n",
       "      <td>False</td>\n",
       "    </tr>\n",
       "    <tr>\n",
       "      <th>624</th>\n",
       "      <td>84 ਸਿੱਖ ਕਤਲੇਆਮ : ਸੱਜਣ ਕੁਮਾਰ ਕੁਮਾਰ ਸਣੇ 5 ਆਗੂ ਜ...</td>\n",
       "      <td>False</td>\n",
       "    </tr>\n",
       "    <tr>\n",
       "      <th>625</th>\n",
       "      <td>WHO ਮੁਤਾਬਕ ਦੁਨੀਆਂ ਵਿੱਚ ਹਰ ਸਾਲ 5.6 ਕਰੋੜ ਔਰਤਾਂ ...</td>\n",
       "      <td>False</td>\n",
       "    </tr>\n",
       "    <tr>\n",
       "      <th>626</th>\n",
       "      <td>ਬਲਾਤਕਾਰ ਦੇ ਦੋਸ਼ਾਂ 'ਚ ਘਿਰੇ ਬਿਸ਼ਪ ਨੇ ਦਿੱਤੀ ਸਫ਼ਾ...</td>\n",
       "      <td>False</td>\n",
       "    </tr>\n",
       "  </tbody>\n",
       "</table>\n",
       "<p>627 rows × 2 columns</p>\n",
       "</div>"
      ],
      "text/plain": [
       "                                               article  is_about_politics\n",
       "0     ਮਾਇਆਵਤੀ ਅਤੇ ਮੁਲਾਇਮ ਸਿੰਘ ਯਾਦਵ ਨੂੰ ਦੁਸ਼ਮਣ ਬਣਾਉਣ...               True\n",
       "1     ਇਸ ਤੇਲਗੂ ਫਿਲਮ ਅਦਾਕਾਰਾ ਨੇ ਕਿਉਂ ਲਾਹੇ ਸੜਕ 'ਤੇ ਕੱ...              False\n",
       "2     ਵੈਸਟਮਿਨਸਟਰ ਕਾਰ ਹਾਦਸਾ: ਸ਼ੱਕੀ ਅੱਤਵਾਦੀ ਵਾਰਦਾਤ ਦੇ...              False\n",
       "3     ਪਾਕਿਸਤਾਨ ਵਿੱਚ ਇਸਰਾਈਲ ਦੇ ਜਹਾਜ਼ ਨੇ ਇੰਝ ਮੱਚਾਈ ‘ਤ...              False\n",
       "4     ਮਨਦੀਪ ਸਿੰਘ ਇਸ ਵੇਲੇ ਇਟਲੀ ਰਹਿ ਰਹੇ ਹਨ। ਬੀਬੀਸੀ ਪੰ...              False\n",
       "..                                                 ...                ...\n",
       "622   ਓਮ ਪੁਰੀ ਜਦੋਂ ਪੰਜਾਬੀ ਬੋਲਣ ਦੇ ਅੰਦਾਜ਼ ਤੋਂ ਬੰਦੇ ਦ...              False\n",
       "623   ਮੈਕਸੀਕੋ ਦੀ ਇਸ ਲੜਕੀ ਨੂੰ ਲੱਖਾਂ ਲੋਕ ਪਸੰਦ ਕਰਦੇ ਹਨ...              False\n",
       "624   84 ਸਿੱਖ ਕਤਲੇਆਮ : ਸੱਜਣ ਕੁਮਾਰ ਕੁਮਾਰ ਸਣੇ 5 ਆਗੂ ਜ...              False\n",
       "625   WHO ਮੁਤਾਬਕ ਦੁਨੀਆਂ ਵਿੱਚ ਹਰ ਸਾਲ 5.6 ਕਰੋੜ ਔਰਤਾਂ ...              False\n",
       "626   ਬਲਾਤਕਾਰ ਦੇ ਦੋਸ਼ਾਂ 'ਚ ਘਿਰੇ ਬਿਸ਼ਪ ਨੇ ਦਿੱਤੀ ਸਫ਼ਾ...              False\n",
       "\n",
       "[627 rows x 2 columns]"
      ]
     },
     "execution_count": 1,
     "metadata": {},
     "output_type": "execute_result"
    }
   ],
   "source": [
    "import pandas as pd\n",
    "data = pd.read_csv('train.csv')\n",
    "data"
   ]
  },
  {
   "cell_type": "markdown",
   "id": "5b29d232",
   "metadata": {},
   "source": [
    "## Step 2 : Exploratory Data Analysis ( Phase 1 )\n",
    "EDA also kwnown as Exploratory data analysis is one of the important part of machine learning project life cycle , and is used in order to understand the data , so that we could perform feature engineering on the dataset efficiently if needed.\n",
    "\n",
    "During exploratory data analysis , first of all we will start with some basic questions⬇️\n",
    "\n",
    "1. What is the shape of the dataset ?\n",
    "2. How dataset looks like ?\n",
    "3. Datatype of features/Columns\n",
    "4. Check any null values\n",
    "5. Check any duplicate value"
   ]
  },
  {
   "cell_type": "code",
   "execution_count": 2,
   "id": "b1ca6a43",
   "metadata": {},
   "outputs": [
    {
     "data": {
      "text/plain": [
       "(627, 2)"
      ]
     },
     "execution_count": 2,
     "metadata": {},
     "output_type": "execute_result"
    }
   ],
   "source": [
    "# Checking the shape of the dataset\n",
    "data.shape"
   ]
  },
  {
   "cell_type": "code",
   "execution_count": 3,
   "id": "925aa7a1",
   "metadata": {
    "scrolled": true
   },
   "outputs": [
    {
     "data": {
      "text/html": [
       "<div>\n",
       "<style scoped>\n",
       "    .dataframe tbody tr th:only-of-type {\n",
       "        vertical-align: middle;\n",
       "    }\n",
       "\n",
       "    .dataframe tbody tr th {\n",
       "        vertical-align: top;\n",
       "    }\n",
       "\n",
       "    .dataframe thead th {\n",
       "        text-align: right;\n",
       "    }\n",
       "</style>\n",
       "<table border=\"1\" class=\"dataframe\">\n",
       "  <thead>\n",
       "    <tr style=\"text-align: right;\">\n",
       "      <th></th>\n",
       "      <th>article</th>\n",
       "      <th>is_about_politics</th>\n",
       "    </tr>\n",
       "  </thead>\n",
       "  <tbody>\n",
       "    <tr>\n",
       "      <th>88</th>\n",
       "      <td>ਇੰਡੋਨੇਸ਼ੀਆ 'ਚ ਸੁਨਾਮੀ ਦਾ ਖ਼ਤਰਾ ਬਰਕਰਾਰ ਤੇ ਈਰਾਨ ...</td>\n",
       "      <td>False</td>\n",
       "    </tr>\n",
       "    <tr>\n",
       "      <th>428</th>\n",
       "      <td>Ind Vs Aus: ਭਾਰਤ ਨੇ ਆਸਟਰੇਲੀਆ ਵਿੱਚ ਪਹਿਲੀ ਵਾਰ ਟ...</td>\n",
       "      <td>False</td>\n",
       "    </tr>\n",
       "    <tr>\n",
       "      <th>378</th>\n",
       "      <td>ਉਦਾਰ ਸਵੀਡਨ ਵਿੱਚ ਹੁਣ ਪਰਵਾਸੀਆਂ ਨੂੰ ਮੰਨਿਆ ਜਾ ਰਿਹ...</td>\n",
       "      <td>False</td>\n",
       "    </tr>\n",
       "    <tr>\n",
       "      <th>518</th>\n",
       "      <td>ਅਮਰੀਕਾ ’ਚ ਪਰਵਾਸੀਆਂ ਲਈ ਦੀਵਾਰ ਬਣਾਉਣ ਖਾਤਿਰ ਟਰੰਪ ...</td>\n",
       "      <td>False</td>\n",
       "    </tr>\n",
       "    <tr>\n",
       "      <th>24</th>\n",
       "      <td>ਜਾਪਾਨ ਦੇ ਇਸ ਟਾਪੂ 'ਤੇ ਔਰਤਾਂ ਦੇ ਆਉਣ 'ਤੇ ਪਾਬੰਦੀ ...</td>\n",
       "      <td>False</td>\n",
       "    </tr>\n",
       "  </tbody>\n",
       "</table>\n",
       "</div>"
      ],
      "text/plain": [
       "                                               article  is_about_politics\n",
       "88    ਇੰਡੋਨੇਸ਼ੀਆ 'ਚ ਸੁਨਾਮੀ ਦਾ ਖ਼ਤਰਾ ਬਰਕਰਾਰ ਤੇ ਈਰਾਨ ...              False\n",
       "428   Ind Vs Aus: ਭਾਰਤ ਨੇ ਆਸਟਰੇਲੀਆ ਵਿੱਚ ਪਹਿਲੀ ਵਾਰ ਟ...              False\n",
       "378   ਉਦਾਰ ਸਵੀਡਨ ਵਿੱਚ ਹੁਣ ਪਰਵਾਸੀਆਂ ਨੂੰ ਮੰਨਿਆ ਜਾ ਰਿਹ...              False\n",
       "518   ਅਮਰੀਕਾ ’ਚ ਪਰਵਾਸੀਆਂ ਲਈ ਦੀਵਾਰ ਬਣਾਉਣ ਖਾਤਿਰ ਟਰੰਪ ...              False\n",
       "24    ਜਾਪਾਨ ਦੇ ਇਸ ਟਾਪੂ 'ਤੇ ਔਰਤਾਂ ਦੇ ਆਉਣ 'ਤੇ ਪਾਬੰਦੀ ...              False"
      ]
     },
     "execution_count": 3,
     "metadata": {},
     "output_type": "execute_result"
    }
   ],
   "source": [
    "# Checking any random 5 rows in the dataset\n",
    "data.sample(5)"
   ]
  },
  {
   "cell_type": "code",
   "execution_count": 4,
   "id": "aadb151f",
   "metadata": {},
   "outputs": [
    {
     "data": {
      "text/plain": [
       "\" ਸਬਰੀਮਾਲਾ ਮੰਦਿਰ ਜਾਣ ਵਾਲੀ ਪਹਿਲੀ ਔਰਤ 'ਤੇ ਸੱਸ ਨੇ ਹੀ ਕੀਤਾ ਹਮਲਾ      15 ਜਨਵਰੀ 2019                                              ਈਮੇਲ                                                 ਸਾਂਝਾ ਕਰੋ                                                 ਈਮੇਲ  ਈਮੇਲ    ਲਿੰਕ ਨੂੰ ਕਾਪੀ ਕਰੋ  https://www.bbc.com/punjabi/india-46874907  ਸਾਂਝਾ ਕਰਨ ਬਾਰੇ ਹੋਰ ਪੜ੍ਹੋ   ਸਾਂਝਾ ਕਰਨ ਵਾਲੇ ਪੈਨਲ ਨੂੰ ਬੰਦ ਕਰੋ              Image copyright IMRAN QURESHI/BBC   ਫੋਟੋ ਕੈਪਸ਼ਨ                     ਕਨਕਦੁਰਗਾ ਨੇ ਪਹਿਲਾਂ ਕਿਹਾ ਸੀ ਕਿ ਉਨ੍ਹਾਂ ਰੱਬ ਉੱਤੇ ਭਰੋਸਾ ਹੈ, ਇਸ ਲਈ ਡਰ ਨਹੀਂ ਲਗਦਾ                  ਕੇਰਲ ਦੇ ਸਬਰੀਮਾਲਾ ਮੰਦਰ ਵਿੱਚ ਦਰਸ਼ਨ ਕਰਨ ਵਾਲੀਆਂ ਦੋ ਔਰਤਾਂ 'ਚੋਂ ਇੱਕ ਕਨਕਦੁਰਗਾ 'ਤੇ ਉਸਦੀ ਸੱਸ ਨੇ ਹਮਲਾ ਕੀਤਾ ਹੈ। ਜਿਸ ਤੋਂ ਬਾਅਦ ਉਹ ਹਸਪਤਾਲ ਵਿੱਚ ਦਾਖਲ ਹੈ। ਮੰਦਰ ਵਿੱਚ ਜਾਣ ਵਾਲੀ ਉਨ੍ਹਾਂ ਦੀ ਸਾਥੀ ਬਿੰਦੂ ਅੰਮਿਨੀ ਨੇ ਬੀਬੀਸੀ ਨੂੰ ਦੱਸਿਆ, ''ਕਨਕਦੁਰਗਾ ਘਰ ਪਰਤੀ ਹੀ ਸੀ ਕਿ ਉਸਦੇ ਸਿਰ 'ਤੇ ਹਮਲਾ ਕੀਤਾ ਗਿਆ।''ਦੋਵੇਂ ਔਰਤਾਂ 2 ਜਨਵਰੀ ਨੂੰ ਮੰਦਰ ਵਿੱਚ ਦਰਸ਼ਨ ਕਰਨ 'ਚ ਸਫਲ ਹੋਈਆਂ ਸਨ। 28 ਸਤੰਬਰ ਨੂੰ ਸੁਪਰੀਮ ਕੋਰਟ ਨੇ ਫੈਸਲਾ ਸੁਣਾਇਆ ਸੀ ਕਿ ਸਬਰੀਮਾਲਾ ਵਿੱਚ 10 ਤੋਂ 50 ਸਾਲ ਦੀ ਉਮਰ ਤੱਕ ਦੀਆਂ ਔਰਤਾਂ ਦੇ ਜਾਣ 'ਤੇ ਕੋਈ ਪਾਬੰਦੀ ਨਹੀਂ ਹੈ। ਉਸ ਤੋਂ ਬਾਅਦ ਇਹ ਦੋਵੇਂ ਪਹਿਲੀਆਂ ਔਰਤਾਂ ਸਨ, ਜੋ ਮੰਦਿਰ ਵਿੱਚ ਜਾ ਸਕੀਆਂ। ਫੈਸਲੇ ਤੋਂ ਬਾਅਦ ਘੱਟੋ ਘੱਟ 10 ਔਰਤਾਂ ਨੇ ਮੰਦਿਰ ਵਿੱਚ ਜਾਣ ਦੀ ਕੋਸ਼ਿਸ਼ ਕੀਤੀ ਸੀ ਪਰ ਹਰ ਕੋਈ ਅਸਫਲ ਰਿਹਾ ਸੀ। ਭਾਜਪਾ ਅਤੇ ਹਿੰਦੂ ਸੰਸਥਾਵਾਂ ਔਰਤਾਂ ਨੂੰ ਅੰਦਰ ਜਾਣ ਤੋਂ ਰੋਕ ਰਹੀਆਂ ਸਨ। ਇਹ ਵੀ ਪੜ੍ਹੋ: 'ਸਾਨੂੰ ਕੋਈ ਦੇਖ ਲੈਂਦਾ ਤਾਂ ਸਾਡਾ ਕਤਲ ਹੋ ਸਕਦਾ ਸੀ' ਕੁੰਭ ਮੇਲਾ: 12 ਕਰੋੜ ਲੋਕਾਂ ਲਈ ਇਹ ਹਨ ਇੰਤਜ਼ਾਮ “ਮੇਰੀ ਮਾਂ ਵਿਲਕਦੀ ਸੀ ਕਿ ਸਾਡੇ ਘਰ ਕੀ ਜੰਮ ਪਿਆ”ਨਾਇਰ ਭਾਈਚਾਰੇ ਦੀ ਕਨਕਦੁਰਗਾ ਪਿਛਲੇ ਕਾਫੀ ਸਮੇਂ ਤੋਂ ਸੁਰੱਖਿਆ ਕਾਰਨਾਂ ਕਰਕੇ ਛੁਪੀ ਹੋਈ ਸੀ। ਸੱਜੇ ਪੱਥੀ ਲੋਕ ਉਨ੍ਹਾਂ ਦੇ ਘਰਾਂ ਦੇ ਬਾਹਰ ਪ੍ਰਦਰਸ਼ਨ ਕਰ ਰਹੇ ਸਨ। ਦੋਵੇਂ ਔਰਤਾਂ ਨੂੰ ਇੱਕੋ ਪਲੇਟਫਾਰਮ 'ਤੇ ਜੋੜਣ ਵਾਲੇ ਸੋਸ਼ਲ ਮੀਡੀਆ ਗਰੁੱਪ ਦੇ ਮੈਂਬਰ ਨੇ ਦੱਸਿਆ, ''ਘਰ ਵੜਣ 'ਤੇ ਉਸਨੂੰ ਡੰਡੇ ਨਾਲ ਮਾਰਿਆ ਗਿਆ। ਪਹਿਲਾਂ ਲੋਕਲ ਹਸਪਤਾਲ ਵਿੱਚ ਭਰਤੀ ਕਰਾਇਆ ਗਿਆ ਪਰ ਬਾਅਦ ਵਿੱਚ ਉਸਨੂੰ ਮੱਲਪੂਰਮ ਦੇ ਸਰਕਾਰੀ ਹਸਪਤਾਲ ਵਿੱਚ ਲਿਜਾਇਆ ਗਿਆ।''   ਮੀਡੀਆ ਪਲੇਬੈਕ ਤੁਹਾਡੀ ਡਿਵਾਈਸ 'ਤੇ ਸਪੋਰਟ ਨਹੀਂ ਕਰਦਾ       ਸਬਰੀਮਲਾ ਮੰਦਿਰ ’ਚ ਦਾਖ਼ਲ ਹੋਣ ਵਾਲੀ ਔਰਤਾ ਨੇ ਕਿਹਾ, 'ਸ਼ਾਇਦ ਮੈਨੂੰ ਲੋਕ ਕਤਲ ਵੀ ਸਕਦੇ ਹਨ'ਬਿੰਦੂ ਨੇ ਕਿਹਾ, ''ਇਹ ਘਰੇਲੂ ਮਸਲਾ ਹੈ, ਪਹਿਲਾਂ ਤਾਂ ਉਸ ਦਾ ਪਤੀ ਵੀ ਉਸਦੇ ਸਬਰੀਮਾਲਾ ਜਾਣ ਦੇ ਹੱਕ ਵਿੱਚ ਨਹੀਂ ਸੀ, ਪਰ ਇਸ ਘਟਨਾ ਤੋਂ ਬਾਅਦ ਉਸ ਦੇ ਪੱਖ ਵਿੱਚ ਹੈ।''ਹਾਲਾਂਕਿ ਬਿੰਦੂ ਨੇ ਮੁੜ ਤੋਂ ਲਾਅ ਕਾਲੇਜ ਵਿੱਚ ਪੜ੍ਹਾਉਣਾ ਸ਼ੁਰੂ ਕਰ ਦਿੱਤਾ ਹੈ। ਉਨ੍ਹਾਂ ਕਿਹਾ, ''ਮੇਰੇ ਵਿਦਿਆਰਥੀ ਅਤੇ ਸਾਥੀ ਅਧਿਆਪਕ ਮੈਨੂੰ ਪੂਰਾ ਸਹਿਯੋਗ ਦੇ ਰਹੇ ਹਨ।''ਤੁਸੀਂ ਇਹ ਵੀਡੀਓਜ਼ ਵੀ ਦੇਖ ਸਕਦੇ ਹੋ:      Image Copyright BBC News Punjabi BBC News Punjabi       Image Copyright BBC News Punjabi BBC News Punjabi         Image Copyright BBC News Punjabi BBC News Punjabi       Image Copyright BBC News Punjabi BBC News Punjabi    (ਬੀਬੀਸੀ ਪੰਜਾਬੀ ਨਾਲ , , ਅਤੇ  'ਤੇ ਜੁੜੋ।) \""
      ]
     },
     "execution_count": 4,
     "metadata": {},
     "output_type": "execute_result"
    }
   ],
   "source": [
    "# Taking a look at one article\n",
    "data['article'][5]"
   ]
  },
  {
   "cell_type": "code",
   "execution_count": 5,
   "id": "44538402",
   "metadata": {},
   "outputs": [
    {
     "name": "stdout",
     "output_type": "stream",
     "text": [
      "<class 'pandas.core.frame.DataFrame'>\n",
      "RangeIndex: 627 entries, 0 to 626\n",
      "Data columns (total 2 columns):\n",
      " #   Column             Non-Null Count  Dtype \n",
      "---  ------             --------------  ----- \n",
      " 0   article            627 non-null    object\n",
      " 1   is_about_politics  627 non-null    bool  \n",
      "dtypes: bool(1), object(1)\n",
      "memory usage: 5.6+ KB\n"
     ]
    }
   ],
   "source": [
    "# Checking the datatype of features\n",
    "data.info()"
   ]
  },
  {
   "cell_type": "code",
   "execution_count": 6,
   "id": "2e20ff77",
   "metadata": {},
   "outputs": [
    {
     "data": {
      "text/plain": [
       "article              0\n",
       "is_about_politics    0\n",
       "dtype: int64"
      ]
     },
     "execution_count": 6,
     "metadata": {},
     "output_type": "execute_result"
    }
   ],
   "source": [
    "# Checking any null values\n",
    "data.isnull().sum()"
   ]
  },
  {
   "cell_type": "code",
   "execution_count": 7,
   "id": "3207fdb7",
   "metadata": {},
   "outputs": [
    {
     "data": {
      "text/plain": [
       "0"
      ]
     },
     "execution_count": 7,
     "metadata": {},
     "output_type": "execute_result"
    }
   ],
   "source": [
    "# Checking any null values\n",
    "data.duplicated().sum()"
   ]
  },
  {
   "cell_type": "markdown",
   "id": "3d51e5ac",
   "metadata": {},
   "source": [
    "From phase 1 of exploratory data analysis , we got to know that there are total 627 rows and 2 columns with object and booelan datatype respectively , moreover there are no null or duplicated values present in our dataset . One thing to consider is that in every article there are some links and symbols which must not be there , thus after the EDA phase 2 , we will remove all the puncutations , stopwords and links from the articles for easy processing."
   ]
  },
  {
   "cell_type": "markdown",
   "id": "72f8fd08",
   "metadata": {},
   "source": [
    "## Exploratory data analysis : Phase 2 \n",
    "During this phase we will do univariate data analysis using seaborn library "
   ]
  },
  {
   "cell_type": "code",
   "execution_count": 8,
   "id": "3c8a873d",
   "metadata": {},
   "outputs": [
    {
     "name": "stderr",
     "output_type": "stream",
     "text": [
      "C:\\Users\\YUVRAJ\\AppData\\Local\\Programs\\Python\\Python310\\lib\\site-packages\\seaborn\\_decorators.py:36: FutureWarning: Pass the following variable as a keyword arg: x. From version 0.12, the only valid positional argument will be `data`, and passing other arguments without an explicit keyword will result in an error or misinterpretation.\n",
      "  warnings.warn(\n"
     ]
    },
    {
     "data": {
      "text/plain": [
       "<AxesSubplot:xlabel='is_about_politics', ylabel='count'>"
      ]
     },
     "execution_count": 8,
     "metadata": {},
     "output_type": "execute_result"
    },
    {
     "data": {
      "image/png": "[encoded data removed]",
      "text/plain": [
       "<Figure size 432x288 with 1 Axes>"
      ]
     },
     "metadata": {
      "needs_background": "light"
     },
     "output_type": "display_data"
    }
   ],
   "source": [
    "import seaborn as sns\n",
    "sns.countplot(data['is_about_politics'])"
   ]
  },
  {
   "cell_type": "code",
   "execution_count": 9,
   "id": "855dcb95",
   "metadata": {},
   "outputs": [
    {
     "data": {
      "text/plain": [
       "<AxesSubplot:ylabel='is_about_politics'>"
      ]
     },
     "execution_count": 9,
     "metadata": {},
     "output_type": "execute_result"
    },
    {
     "data": {
      "image/png": "[encoded data removed]",
      "text/plain": [
       "<Figure size 432x288 with 1 Axes>"
      ]
     },
     "metadata": {},
     "output_type": "display_data"
    }
   ],
   "source": [
    "data['is_about_politics'].value_counts().plot(kind='pie', autopct='%.2f')"
   ]
  },
  {
   "cell_type": "markdown",
   "id": "d416826c",
   "metadata": {},
   "source": [
    "By doing the exploratory data analysis we got to know that most of the news are fake and the dataset is unbalanced so we need to balance the dataset"
   ]
  },
  {
   "cell_type": "markdown",
   "id": "592917e9",
   "metadata": {},
   "source": [
    "### Step 3 : Cleaning the data and handling unbalanced dataset\n",
    "\n",
    "After doing the exploratory data analysis on our dataset , we got to know that there are some missing values present in our dataset and at the same time , for the prediction purpose the id and the text feature will not contribute a lot , thus we will drop these columns.Not only this in this phase we will also apply some important process on our dataframe such as tokenization , stop word removal and lemmatization .\n",
    "\n",
    "Before implementing all these processes we must be aware about what actually we are doing\n",
    "\n",
    "1. **Remvoal of punctuations** : The first step while cleaning our dataset would be to remove punctuations from the articles , because puncutations or the special symbol don't contribute for deduction of meaning from the sentence.\n",
    "2. **Tokenization** : Using this process we break down the large text into small text known as tokens , so that it becomes easy for us to do further processing and also it becomes easy for machine learning model to deduce meaning from sentence efficiently.\n",
    "\n",
    "2. **Stop words removal** : Stop word are removed so that the processing of the text becomes efficinet as stop words are those words which don't contribute a lot while deducing the meaning from the sentence.\n",
    "\n",
    "4. **Leammatization** : This process is done in order to reduce the inflection of words to their base form by doing the contextual analysis of the word"
   ]
  },
  {
   "cell_type": "code",
   "execution_count": 34,
   "id": "20fe5f28",
   "metadata": {},
   "outputs": [
    {
     "name": "stderr",
     "output_type": "stream",
     "text": [
      "C:\\Users\\YUVRAJ\\AppData\\Local\\Temp\\ipykernel_1992\\2224296709.py:3: SettingWithCopyWarning: \n",
      "A value is trying to be set on a copy of a slice from a DataFrame\n",
      "\n",
      "See the caveats in the documentation: https://pandas.pydata.org/pandas-docs/stable/user_guide/indexing.html#returning-a-view-versus-a-copy\n",
      "  data['is_about_politics'][i] = 1\n",
      "C:\\Users\\YUVRAJ\\AppData\\Local\\Programs\\Python\\Python310\\lib\\site-packages\\seaborn\\_decorators.py:36: FutureWarning: Pass the following variable as a keyword arg: x. From version 0.12, the only valid positional argument will be `data`, and passing other arguments without an explicit keyword will result in an error or misinterpretation.\n",
      "  warnings.warn(\n"
     ]
    },
    {
     "data": {
      "text/plain": [
       "<AxesSubplot:xlabel='is_about_politics', ylabel='count'>"
      ]
     },
     "execution_count": 34,
     "metadata": {},
     "output_type": "execute_result"
    },
    {
     "data": {
      "image/png": "[encoded data removed]",
      "text/plain": [
       "<Figure size 432x288 with 1 Axes>"
      ]
     },
     "metadata": {
      "needs_background": "light"
     },
     "output_type": "display_data"
    }
   ],
   "source": [
    "for i in range(0,len(data)):\n",
    "    if(data['is_about_politics'][i] == True):\n",
    "        data['is_about_politics'][i] = 1\n",
    "    else:\n",
    "        data['is_about_politics'][i] = 0\n",
    "sns.countplot(Y['is_about_politics'])"
   ]
  },
  {
   "cell_type": "code",
   "execution_count": 10,
   "id": "2c82fa3e",
   "metadata": {},
   "outputs": [],
   "source": [
    "corpus = [] # Empty list to store the clean articles\n",
    "import re\n",
    "import nltk\n",
    "for i in range(0, len(data)):\n",
    "    clean = re.sub('[^ਓ-ਲ਼ ਾ-ੌ ਂ-ੱ]', ' ', data['article'][i])  # Removal of punctuations and numbers\n",
    "    \n",
    "    # Tokenization\n",
    "    clean = nltk.word_tokenize(clean)  \n",
    "    \n",
    "    # Punjabi stopword removal\n",
    "    stopwords = ['ਦੀ','ਦੇ','ਹੈ','ਨੂੰ','ਵਿਚ','ਦਾ','ਤੇ','ਅਤੇ','ਇਸ'\n",
    "            ,'ਵੀ','ਨੇ','ਹਨ', 'ਨਾਲ' ,'ਤੋਂ','ਕਿ','ਕੇ','ਹੀ',\n",
    "            'ਲਈ','ਸੀ','ਉਸ','ਤਾਂ','ਇਹ','ਨਹੀਂ','ਇਕ','ਚ',\n",
    "            'ਹੋ','ਉਹ','ਕਰਨ','ਆਪਣੇ','ਜੋ','ਕਰਕੇ','ਕਰ',\n",
    "            'ਪਰ','ਕੋਈ','ਗਿਆ','ਰਹੇ','ਦੀਆਂ','ਜਾਂ','ਕੀਤਾ',\n",
    "            'ਕੀਤੀ','ਨਾ','ਜਾਂਦਾ','ਜਾ','ਸਨ','ਜਿਸ']\n",
    "    \n",
    "    clean = ' '.join([word for word in clean if not word in stopwords])\n",
    "    corpus.append(clean)"
   ]
  },
  {
   "cell_type": "code",
   "execution_count": 11,
   "id": "f13abefb",
   "metadata": {},
   "outputs": [],
   "source": [
    "cleaned_articles = pd.DataFrame(corpus)\n",
    "cleaned_articles.columns = ['Articles']"
   ]
  },
  {
   "cell_type": "code",
   "execution_count": 46,
   "id": "448fb65e",
   "metadata": {},
   "outputs": [],
   "source": [
    "#Punjabi Stemmer Class\n",
    "class Punjabi:\n",
    "\n",
    "    # Constructor\n",
    "    def __init__(self):\n",
    "        self.suffixes = {1: [\"ੀ ਆਂ \", \"िਆਂ\", \"ੂਆਂ\", \"ੀ ਏ\", \"ੀ ਓ\"],\n",
    "                         2: [\"ਈ\", \"ੇ\", \"ू\", \"ु\", \"ी\",\"ਏ\"\n",
    "                             \"ि\", \"ा\", \"ੋ\", \"ਜ\", \"ਜ਼\", \"ਸ\"],\n",
    "                         3: [\"िਓ\", \"ਾ ਂ\", \"ੀ ਂ\", \"ੋ ਂ\",\"ਏ\"],\n",
    "                         4: [\"ਿਉ ਂ\", \"ਵਾਂ\" ],\n",
    "                         5: [\"ੀ ਆ\", \"िਆ\", \"ਈਆ\"]}\n",
    "\n",
    "    # This function is for replacing old string with new string\n",
    "    def rreplace(self,string, old, new, count=None):\n",
    "      string_reverse = string[::-1]\n",
    "      old_reverse = old[::-1]\n",
    "      new_reverse = new[::-1]\n",
    "      if count:\n",
    "          final_reverse = string_reverse.replace(old_reverse, new_reverse, count)\n",
    "      else:\n",
    "          final_reverse = string_reverse.replace(old_reverse, new_reverse)\n",
    "      result = final_reverse[::-1]\n",
    "      return result\n",
    "    \n",
    "    # This function returns the suffix from suffix dictionary\n",
    "    def gen_replacement(self, suf, L):\n",
    "        if L == 1 or L == 5:\n",
    "            return suf[1:]\n",
    "        return suf\n",
    "\n",
    "    def stem(self, text):\n",
    "      # function for stemming the words\n",
    "        tag = [1,2,3,4,5]\n",
    "        tag.reverse()\n",
    "        dic_punj = {}\n",
    "   \n",
    "        for word in text.split():\n",
    "            flag = 0\n",
    "            for L in tag:\n",
    "                if flag == 1:\n",
    "                    break\n",
    "                if len(word) > L + 1:  #checking for minimum 3 letter words\n",
    "                    for suf in self.suffixes[L]:\n",
    "                        if word.endswith(suf):\n",
    "                            word1 = self.rreplace(word,self.gen_replacement(suf,L), '', 1)\n",
    "                            dic_punj[word] = word1\n",
    "                            flag = 1\n",
    "                            break\n",
    "            if flag == 0:\n",
    "              #for word length less than 3 (stop words)\n",
    "                dic_punj[word] = word\n",
    "        return dic_punj\n",
    "    \n",
    "stemmed = []\n",
    "obj = Punjabi()  #object creation\n",
    "for i in range(0,len(cleaned_articles)):\n",
    "    stemmed_text = cleaned_articles['Articles'][i]\n",
    "    stemmed.append(obj.stem(stemmed_text))"
   ]
  },
  {
   "cell_type": "code",
   "execution_count": 33,
   "id": "39c3451e",
   "metadata": {},
   "outputs": [],
   "source": [
    "# stemmed_articles = pd.DataFrame(stemmed)\n",
    "# stemmed_articles.columns = ['Stemmed_Articles']\n",
    "# stemmed_articles"
   ]
  },
  {
   "cell_type": "code",
   "execution_count": null,
   "id": "a2c5b302",
   "metadata": {},
   "outputs": [],
   "source": []
  }
 ],
 "metadata": {
  "kernelspec": {
   "display_name": "Python 3 (ipykernel)",
   "language": "python",
   "name": "python3"
  },
  "language_info": {
   "codemirror_mode": {
    "name": "ipython",
    "version": 3
   },
   "file_extension": ".py",
   "mimetype": "text/x-python",
   "name": "python",
   "nbconvert_exporter": "python",
   "pygments_lexer": "ipython3",
   "version": "3.10.2"
  }
 },
 "nbformat": 4,
 "nbformat_minor": 5
}
